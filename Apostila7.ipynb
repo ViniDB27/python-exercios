{
 "cells": [
  {
   "cell_type": "code",
   "execution_count": 2,
   "id": "91c9ac55",
   "metadata": {},
   "outputs": [
    {
     "name": "stdout",
     "output_type": "stream",
     "text": [
      "Digite um nuemro 5\n",
      "Impar\n"
     ]
    }
   ],
   "source": [
    "# Faça um programa que peça um número qualquer e diga se ele é um número par ou ímpar.\n",
    "\n",
    "numero = float(input('Digite um nuemro '))\n",
    "\n",
    "resto = numero % 2\n",
    "\n",
    "if resto == 0:\n",
    "    print('Par')\n",
    "else:\n",
    "    print('Impar')"
   ]
  },
  {
   "cell_type": "code",
   "execution_count": 6,
   "id": "9c121481",
   "metadata": {},
   "outputs": [
    {
     "name": "stdout",
     "output_type": "stream",
     "text": [
      "Digite um numero5\n",
      "Digite um numero6\n",
      "Digite um numero4\n",
      "Digite um numero8\n",
      "Digite um numero3\n",
      "Maior = 8\n",
      "Menor = 3\n"
     ]
    }
   ],
   "source": [
    "# Peça ao usuário 5 valores e diga qual é o maior e qual é o menor deles.\n",
    "\n",
    "vezes = 0\n",
    "listaDeNumero = []\n",
    "\n",
    "while vezes < 5:\n",
    "    valor = int(input('Digite um numero'))\n",
    "    listaDeNumero.append(valor)\n",
    "    vezes += 1\n",
    "    \n",
    "print(f'Maior = {max(listaDeNumero)}')\n",
    "print(f'Menor = {min(listaDeNumero)}')"
   ]
  },
  {
   "cell_type": "code",
   "execution_count": 10,
   "id": "4ee1b407",
   "metadata": {},
   "outputs": [
    {
     "name": "stdout",
     "output_type": "stream",
     "text": [
      "Digite um numero135\n",
      "Impar\n",
      "é Divisivel por 5\n",
      "Não é Divisivel por 10\n"
     ]
    }
   ],
   "source": [
    "# Peça ao usuário um número e indique se o número é par ou ímpar, se é divisível por 5 ou por 10.\n",
    "\n",
    "numero = int(input('Digite um numero'))\n",
    "\n",
    "resto = numero % 2\n",
    "\n",
    "if resto == 0:\n",
    "    print('Par')\n",
    "else:\n",
    "    print('Impar')\n",
    "\n",
    "restoPor5 = numero % 5\n",
    "\n",
    "if restoPor5 == 0:\n",
    "    print('é Divisivel por 5')\n",
    "else:\n",
    "    print('Não é Divisivel por 5')\n",
    "    \n",
    "restoPor10 = numero % 10\n",
    "\n",
    "if restoPor10 == 0:\n",
    "    print('é Divisivel por 10')\n",
    "else:\n",
    "    print('Não é Divisivel por 10')\n"
   ]
  },
  {
   "cell_type": "code",
   "execution_count": 14,
   "id": "3141eddc",
   "metadata": {},
   "outputs": [
    {
     "name": "stdout",
     "output_type": "stream",
     "text": [
      "Digite um numero -90\n",
      "Número é inválido.\n"
     ]
    }
   ],
   "source": [
    "# Leia um número fornecido pelo usuário. Se esse número for positivo, calcule a raiz quadrada do\n",
    "# número. Se o número for negativo, mostre uma mensagem dizendo que o número é inválido.\n",
    "from math import sqrt\n",
    "\n",
    "\n",
    "numero = int(input('Digite um numero '))\n",
    "\n",
    "if numero > 0:\n",
    "    print(sqrt(numero))\n",
    "else:\n",
    "    print('Número é inválido.')\n"
   ]
  },
  {
   "cell_type": "code",
   "execution_count": 17,
   "id": "ea9cef2a",
   "metadata": {},
   "outputs": [
    {
     "name": "stdout",
     "output_type": "stream",
     "text": [
      "Digite uma nota 9\n",
      "Nota valida\n"
     ]
    }
   ],
   "source": [
    "# Faça um programa que leia 2 notas de um aluno, verifique se as notas são válidas e exiba na tela\n",
    "# a média destas notas. Uma nota válida deve ser, obrigatoriamente, um valor entre 0.0 e 10.0, onde\n",
    "# caso a nota não possua um valor válido, este fato deve ser informado ao usuário e o programa\n",
    "# termina.\n",
    "\n",
    "nota = float(input('Digite uma nota '))\n",
    "\n",
    "if (nota > 0.0) & (nota < 10.0):\n",
    "    print('Nota valida')\n",
    "else:\n",
    "    print('Nota Invalida')\n",
    "\n"
   ]
  },
  {
   "cell_type": "code",
   "execution_count": 20,
   "id": "817b32ac",
   "metadata": {},
   "outputs": [
    {
     "name": "stdout",
     "output_type": "stream",
     "text": [
      "Digite o valor do salario 5000\n",
      "Digite o valor da parcela 2000\n",
      "40.0\n",
      "Empréstimo nâo concedido\n"
     ]
    }
   ],
   "source": [
    "# Leia o salário de um trabalhador e o valor da prestação de um empréstimo. Se a prestação for\n",
    "# maior que 20% do salário imprima: Empréstimo nâo concedido, caso contrário imprima:\n",
    "# Empréstimo concedido\n",
    "\n",
    "salario = float(input('Digite o valor do salario '))\n",
    "parcela = float(input('Digite o valor da parcela '))\n",
    "\n",
    "percent = (parcela * 100) / salario\n",
    "\n",
    "print(percent)\n",
    "\n",
    "if percent > 20.0:\n",
    "    print('Empréstimo nâo concedido')\n",
    "else:\n",
    "    print('Empréstimo concedido')\n",
    "\n"
   ]
  },
  {
   "cell_type": "code",
   "execution_count": 23,
   "id": "08ab5aa9",
   "metadata": {},
   "outputs": [
    {
     "name": "stdout",
     "output_type": "stream",
     "text": [
      "[4, 6, 8, 10, 12, 14, 16, 18, 20]\n"
     ]
    }
   ],
   "source": [
    "# Crie uma lista vazia e uma variável com valor 4. Enquanto o valor da variável for menor ou igual\n",
    "# a 20,\n",
    "\n",
    "lista = []\n",
    "valor = 4\n",
    "\n",
    "while valor <= 20:\n",
    "    resto = valor % 2\n",
    "    if resto == 0:\n",
    "        lista.append(valor)\n",
    "    valor += 1\n",
    "    \n",
    "print(lista)\n",
    "\n"
   ]
  },
  {
   "cell_type": "code",
   "execution_count": 26,
   "id": "712bc89a",
   "metadata": {},
   "outputs": [
    {
     "name": "stdout",
     "output_type": "stream",
     "text": [
      "Digite uma nota19\n",
      "Nota invalida\n",
      "Digite uma nota4\n"
     ]
    }
   ],
   "source": [
    "# Faça um programa que peça uma nota, entre zero e dez. Mostre uma mensagem caso o valor seja\n",
    "# inválido e continue pedindo até que o usuário informe um valor válido.\n",
    "\n",
    "stop = False\n",
    "\n",
    "while not stop:\n",
    "    nota = float(input('Digite uma nota '))\n",
    "    if (nota > 0) & (nota < 10):\n",
    "        stop = True\n",
    "    else:\n",
    "        print('Nota invalida')\n",
    "\n"
   ]
  },
  {
   "cell_type": "code",
   "execution_count": 28,
   "id": "f74c20d6",
   "metadata": {},
   "outputs": [
    {
     "name": "stdout",
     "output_type": "stream",
     "text": [
      "Username 123\n",
      "Password 1234\n"
     ]
    }
   ],
   "source": [
    "# Faça um programa que leia um nome de usuário e a sua senha e não aceite a senha igual ao nome\n",
    "# do usuário, mostrando uma mensagem de erro e voltando a pedir as informações.\n",
    "\n",
    "user = input('Username ')\n",
    "password = input('Password ')\n",
    "\n",
    "if user == password:\n",
    "    print('A senha não pode ser igual ao username')"
   ]
  },
  {
   "cell_type": "code",
   "execution_count": 30,
   "id": "d62b0e40",
   "metadata": {},
   "outputs": [
    {
     "name": "stdout",
     "output_type": "stream",
     "text": [
      "Digite seu nomevinicio\n",
      "Digite sua idade26\n",
      "Digite seu salario2000\n",
      "Digite seu sexo M ou Fm\n",
      "Digite seu Estado civil S C V Dc\n"
     ]
    }
   ],
   "source": [
    "# Faça um programa que leia e valide as seguintes informações:\n",
    "# a. Nome: maior que 3 caracteres;\n",
    "# b. Idade: entre 0 e 150;\n",
    "# c. Salário: maior que zero;\n",
    "# d. Sexo: 'f' ou 'm';\n",
    "# e. Estado Civil: 's', 'c', 'v', 'd';\n",
    "# Use a função len(string) para saber o tamanho de um texto (número de caracteres).\n",
    "\n",
    "nome = input('Digite seu nome')\n",
    "\n",
    "if len(nome) < 3:\n",
    "    print('Nome invalido')\n",
    "    \n",
    "idade = int(input('Digite sua idade'))\n",
    "\n",
    "if (idade < 1) & (idade > 150):\n",
    "    print('Idade invalido')\n",
    "\n",
    "salario = float(input('Digite seu salario'))\n",
    "\n",
    "if salario < 0:\n",
    "    print('Salario invalido')\n",
    "    \n",
    "gender = input('Digite seu sexo M ou F')\n",
    "\n",
    "if (gender.lower() != 'f') & (gender.lower() != 'm') :\n",
    "    print('Sexo invalido')\n",
    "\n",
    "estadoCivil = input('Digite seu Estado civil S C V D')\n",
    "\n",
    "if (estadoCivil.lower() != 's') & (estadoCivil.lower() != 'c') & (estadoCivil.lower() != 'v') & (estadoCivil.lower() != 'd'):\n",
    "    print('Estado Civil invalido')\n"
   ]
  },
  {
   "cell_type": "code",
   "execution_count": 5,
   "id": "2de423f0",
   "metadata": {},
   "outputs": [
    {
     "name": "stdout",
     "output_type": "stream",
     "text": [
      "Digite a idade da pessoa: 5\n",
      "Digite o sexo da pessoa M ou F: m\n",
      "Deseja sair? S ou enter para continuar\n",
      "Digite a idade da pessoa: 9\n",
      "Digite o sexo da pessoa M ou F: f\n",
      "Deseja sair? S ou enter para continuar\n",
      "Digite a idade da pessoa: 20\n",
      "Digite o sexo da pessoa M ou F: m\n",
      "Deseja sair? S ou enter para continuar\n",
      "Digite a idade da pessoa: 30\n",
      "Digite o sexo da pessoa M ou F: f\n",
      "Deseja sair? S ou enter para continuar\n",
      "Digite a idade da pessoa: 55\n",
      "Digite o sexo da pessoa M ou F: m\n",
      "Deseja sair? S ou enter para continuars\n",
      "Temos 3 pessoas maiores de idade sendo elas 2 mascolinos e 1 femininos\n"
     ]
    }
   ],
   "source": [
    "# Faça um programa que peça a idade e o sexo de vaŕios usuários.No final ele deve mostrar as\n",
    "# estatísticas (quantidade de usuário com mais de 18 anos e dos seos fem e masc). Seu programa deve\n",
    "# perguntar seu o usuário quer parar de cadastrar ou continuar. Quando ele escolhe parar, as\n",
    "# estatísticas aparecem. Quando ele escolhe continuar, ele continua cadastrando.\n",
    "\n",
    "pessoas = []\n",
    "\n",
    "while True:\n",
    "    idade = int(input('Digite a idade da pessoa: '))\n",
    "    sexo = input('Digite o sexo da pessoa M ou F: ')\n",
    "    \n",
    "    pessoas.append((idade, sexo.lower()))\n",
    "    \n",
    "    exit = input('Deseja sair? S ou enter para continuar')\n",
    "    if exit.lower() == 's':\n",
    "        break\n",
    "        \n",
    "maiores = 0\n",
    "femininos = 0\n",
    "masculinos = 0\n",
    "\n",
    "for pessoa in pessoas:\n",
    "    if pessoa[0] >= 18:\n",
    "        maiores += 1\n",
    "        if pessoa[1] == 'm':\n",
    "            masculinos += 1\n",
    "        else:\n",
    "            femininos += 1\n",
    "        \n",
    "print(f'Temos {maiores} pessoas maiores de idade sendo elas {masculinos} mascolino e {femininos} feminino')\n",
    "    \n",
    "    \n",
    "    \n",
    "\n"
   ]
  },
  {
   "cell_type": "code",
   "execution_count": 13,
   "id": "75491437",
   "metadata": {},
   "outputs": [
    {
     "name": "stdout",
     "output_type": "stream",
     "text": [
      "Nome do produto: Caneta\n",
      "Valor do produto: 0.65\n",
      "Deseja sair? S ou enter para continuar \n",
      "Nome do produto: Lapis\n",
      "Valor do produto: 0.25\n",
      "Deseja sair? S ou enter para continuar \n",
      "Nome do produto: Folha sufite\n",
      "Valor do produto: 12.35\n",
      "Deseja sair? S ou enter para continuar s\n",
      "Total da lista: 13.25\n",
      "O Produto de menor valor é Lapis que custa 0.25\n"
     ]
    }
   ],
   "source": [
    "# Faça o programa de uma papelaria. Você passa a lista de compras (produtos e valores) e o\n",
    "# programa mostra o valor final, o produto mais barato e o de menor valor.\n",
    "\n",
    "produtos = []\n",
    "\n",
    "while True:\n",
    "    produto = input('Nome do produto: ')\n",
    "    \n",
    "    valor = float(input('Valor do produto: '))\n",
    "    \n",
    "    produtos.append((produto, valor))\n",
    "    \n",
    "    exit = input('Deseja sair? S ou enter para continuar ')\n",
    "    \n",
    "    if exit.lower() == 's':\n",
    "        break\n",
    "\n",
    "somaTotalDaLista = 0\n",
    "\n",
    "nomeProdutoDeMenorValor = ''\n",
    "valorProdutoDeMenorValor = 0\n",
    "\n",
    "for produto in produtos:\n",
    "    somaTotalDaLista += produto[1]\n",
    "    if (valorProdutoDeMenorValor == 0) | (valorProdutoDeMenorValor > produto[1]):\n",
    "        nomeProdutoDeMenorValor = produto[0]\n",
    "        valorProdutoDeMenorValor = produto[1]\n",
    "        \n",
    "\n",
    "print(f'Total da lista: {somaTotalDaLista}')\n",
    "print(f'O Produto de menor valor é {nomeProdutoDeMenorValor} que custa {valorProdutoDeMenorValor}')\n",
    "    \n",
    "    \n"
   ]
  },
  {
   "cell_type": "code",
   "execution_count": null,
   "id": "78429f4d",
   "metadata": {},
   "outputs": [],
   "source": []
  }
 ],
 "metadata": {
  "kernelspec": {
   "display_name": "Python 3 (ipykernel)",
   "language": "python",
   "name": "python3"
  },
  "language_info": {
   "codemirror_mode": {
    "name": "ipython",
    "version": 3
   },
   "file_extension": ".py",
   "mimetype": "text/x-python",
   "name": "python",
   "nbconvert_exporter": "python",
   "pygments_lexer": "ipython3",
   "version": "3.9.13"
  }
 },
 "nbformat": 4,
 "nbformat_minor": 5
}
