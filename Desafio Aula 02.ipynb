{
 "cells": [
  {
   "cell_type": "markdown",
   "id": "2032d672",
   "metadata": {},
   "source": [
    "# Desafio 01"
   ]
  },
  {
   "cell_type": "code",
   "execution_count": 1,
   "id": "a7b1c12f",
   "metadata": {},
   "outputs": [
    {
     "name": "stdout",
     "output_type": "stream",
     "text": [
      "Digite um numero 5\n",
      "Digite outro numero 2\n",
      "soma de 5.0 + 2.0 = 7.0\n",
      "subtração de 5.0 - 2.0 = 3.0\n",
      "multiplicação de 5.0 x 2.0 = 10.0\n",
      "divisão de 5.0 / 2.0 = 2.5\n"
     ]
    }
   ],
   "source": [
    "numeroA = float(input('Digite um numero '))\n",
    "numeroB = float(input('Digite outro numero '))\n",
    "\n",
    "print(f'soma de {numeroA} + {numeroB} = {numeroA + numeroB}')\n",
    "print(f'subtração de {numeroA} - {numeroB} = {numeroA - numeroB}')\n",
    "print(f'multiplicação de {numeroA} x {numeroB} = {numeroA * numeroB}')\n",
    "print(f'divisão de {numeroA} / {numeroB} = {numeroA / numeroB}')\n"
   ]
  },
  {
   "cell_type": "markdown",
   "id": "b9f69bbf",
   "metadata": {},
   "source": [
    "# Desafio 02"
   ]
  },
  {
   "cell_type": "code",
   "execution_count": 2,
   "id": "3127c374",
   "metadata": {},
   "outputs": [
    {
     "name": "stdout",
     "output_type": "stream",
     "text": [
      "Digite um numero 5\n",
      "seu numero é 5.0, seu antecessor é 4.0, ja o seu sucessor é 6.0\n"
     ]
    }
   ],
   "source": [
    "numeroC = float(input('Digite um numero '))\n",
    "\n",
    "print(f'seu numero é {numeroC}, seu antecessor é {numeroC - 1}, ja o seu sucessor é {numeroC + 1}')"
   ]
  },
  {
   "cell_type": "code",
   "execution_count": null,
   "id": "33d17627",
   "metadata": {},
   "outputs": [],
   "source": []
  }
 ],
 "metadata": {
  "kernelspec": {
   "display_name": "Python 3 (ipykernel)",
   "language": "python",
   "name": "python3"
  },
  "language_info": {
   "codemirror_mode": {
    "name": "ipython",
    "version": 3
   },
   "file_extension": ".py",
   "mimetype": "text/x-python",
   "name": "python",
   "nbconvert_exporter": "python",
   "pygments_lexer": "ipython3",
   "version": "3.9.13"
  }
 },
 "nbformat": 4,
 "nbformat_minor": 5
}
