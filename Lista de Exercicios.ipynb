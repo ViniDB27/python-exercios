{
 "cells": [
  {
   "cell_type": "code",
   "execution_count": 4,
   "id": "4c36a33b",
   "metadata": {},
   "outputs": [
    {
     "name": "stdout",
     "output_type": "stream",
     "text": [
      "Digite a sua altura: 1.60\n",
      "Digite seu Sexo M ou F: f\n",
      "Peso ideal é 54.66000000000001\n"
     ]
    }
   ],
   "source": [
    "# Faça um programa que receba a altura e o sexo de uma pessoa e calcule e mostre seu\n",
    "# peso ideal, utilizando as seguintes fórmulas (onde h corresponde à altura):\n",
    "# • Homens: (72.7 * h) − 58\n",
    "# • Mulheres: (62,1 * h) − 44,7\n",
    "\n",
    "altura = float(input('Digite a sua altura: '))\n",
    "gender = input('Digite seu Sexo M ou F: ')\n",
    "\n",
    "if gender.lower() == 'm':\n",
    "    print(f'Peso ideal é {(72.7 * altura) - 58}')\n",
    "else:\n",
    "    print(f'Peso ideal é {(62.1 * altura) - 44.7}')\n"
   ]
  },
  {
   "cell_type": "code",
   "execution_count": 8,
   "id": "cc9dd435",
   "metadata": {},
   "outputs": [
    {
     "name": "stdout",
     "output_type": "stream",
     "text": [
      "Nota 1 - 0 a 10: 6\n",
      "Nota 2 - 0 a 10: 6\n",
      "Nota 3 - 0 a 10: 6\n",
      "Aluno teve media 60.0 e seu status é Aprovado\n"
     ]
    }
   ],
   "source": [
    "# Faça um algoritmo que calcule a média ponderada das notas de 3 provas. A primeira e a segunda\n",
    "# prova têm peso 1 e a terceira tem peso 2. Ao final, mostrar a média do aluno e indicar se o aluno foi\n",
    "# aprovado ou reprovado. A nota para aprovação deve ser igual ou superior a 60 pontos.\n",
    "\n",
    "nota1 = float(input('Nota 1 - 0 a 10: '))\n",
    "nota2 = float(input('Nota 2 - 0 a 10: '))\n",
    "nota3 = float(input('Nota 3 - 0 a 10: '))\n",
    "\n",
    "media = (((nota1 * 1) + (nota2 * 1) + (nota3 * 2)) / 4) * 10\n",
    "\n",
    "if media >= 60:\n",
    "    print(f'Aluno teve média {media} e seu status é Aprovado')\n",
    "else:\n",
    "    print(f'Aluno teve média {media} e seu status é Reprovado')\n",
    "\n",
    "\n",
    "\n"
   ]
  },
  {
   "cell_type": "code",
   "execution_count": null,
   "id": "d63bdb76",
   "metadata": {},
   "outputs": [
    {
     "name": "stdout",
     "output_type": "stream",
     "text": [
      "==============\n",
      "Sum = +\n",
      "Sub = -\n",
      "Mul = *\n",
      "Div = /\n",
      "==============\n"
     ]
    }
   ],
   "source": [
    "# Faça um programa que mostre ao usuário um menu com 4 opções de operações matemáticas (as\n",
    "# básicas, por exemplo). O usuário escolhe uma das opções e o seu programa então pede dois valores\n",
    "# numéricos e realiza a operação, mostrando o resultado e saindo.\n",
    "\n",
    "print('==============')\n",
    "print('Sum = +')\n",
    "print('Sub = -')\n",
    "print('Mul = *')\n",
    "print('Div = /')\n",
    "print('==============')\n",
    "\n",
    "operador = input('Escolha o operador')\n",
    "\n",
    "valorA = float(input('Valor 1: '))\n",
    "valorB = float(input('Valor 2: '))\n",
    "\n",
    "if operador.lower() == 'sum':\n",
    "    print(valorA + valorB)\n",
    "elif operador.lower() == 'sub':\n",
    "    print(valorA - valorB)\n",
    "elif operador.lower() == 'mul':\n",
    "    print(valorA * valorB)\n",
    "elif operador.lower() == 'div':\n",
    "    print(valorA / valorB)\n",
    "\n",
    "\n"
   ]
  },
  {
   "cell_type": "code",
   "execution_count": 6,
   "id": "b4ec8c57",
   "metadata": {},
   "outputs": [
    {
     "name": "stdout",
     "output_type": "stream",
     "text": [
      "Digite um numero inteiro: 52\n",
      "Numero 52 não é divisivel por 3\n",
      "Numero 52 não é divisivel por 5\n"
     ]
    }
   ],
   "source": [
    "# Faça um programa para verificar se um determinado número inteiro e divisı́vel por 3 ou 5, mas\n",
    "# não simultaneamente pelos dois.\n",
    "\n",
    "numero = int(input('Digite um numero inteiro: '))\n",
    "\n",
    "resto3 = numero % 3\n",
    "resto5 = numero % 5\n",
    "\n",
    "if resto3 == 0:\n",
    "    print(f'Numero {numero} é divisivel por 3')\n",
    "else:\n",
    "    print(f'Numero {numero} não é divisivel por 3')\n",
    "    \n",
    "if resto5 == 0:\n",
    "    print(f'Numero {numero} é divisivel por 5')\n",
    "else:\n",
    "    print(f'Numero {numero} não é divisivel por 5')\n"
   ]
  },
  {
   "cell_type": "code",
   "execution_count": 10,
   "id": "3c7e1a8b",
   "metadata": {},
   "outputs": [
    {
     "name": "stdout",
     "output_type": "stream",
     "text": [
      "Digite o primeiro valor: 6\n",
      "Digite o segundo valor: 6\n",
      "Digite o terceiro valor: 15\n",
      "Não é um triângulo!\n"
     ]
    }
   ],
   "source": [
    "# Dados três valores, A, B, C, verificar se eles podem ser valores dos lados de um triângulo e, se\n",
    "# forem, se é um triângulo escaleno, equilátero ou isóscele, considerando os seguintes conceitos:\n",
    "# • O comprimento de cada lado de um triângulo é menor do que a soma dos outros dois lados.\n",
    "# • Chama-se equilátero o triângulo que tem três lados iguais.\n",
    "# • Denominam-se isósceles o triângulo que tem o comprimento de dois lados iguais.\n",
    "# • Recebe o nome de escaleno o triângulo que tem os três lados diferentes.\n",
    "\n",
    "valorA = float(input('Digite o primeiro valor: '))\n",
    "valorB = float(input('Digite o segundo valor: '))\n",
    "valorC = float(input('Digite o terceiro valor: '))\n",
    "\n",
    "eUmTriangulo = False\n",
    "\n",
    "if (valorA < valorB + valorC) & (valorB < valorC + valorA) & (valorC < valorA + valorB):\n",
    "    eUmTriangulo = True\n",
    "\n",
    "if eUmTriangulo:\n",
    "    if (valorA == valorB) & (valorB == valorC) & (valorC == valorA):\n",
    "        print('é um triângulo equilátero')\n",
    "        \n",
    "    if (valorA != valorB) & (valorB != valorC) & (valorC != valorA):\n",
    "        print('é um triângulo escaleno')\n",
    "        \n",
    "    if (valorA == valorB) & (valorB != valorC) & (valorC != valorA):\n",
    "        print('é um triângulo isósceles')\n",
    "    elif (valorB == valorC) & (valorB != valorA) & (valorC != valorA):\n",
    "        print('é um triângulo isósceles')\n",
    "    elif (valorC == valorA) & (valorB != valorA) & (valorB != valorC):\n",
    "        print('é um triângulo isósceles')\n",
    "else:\n",
    "    print('Não é um triângulo!')\n",
    "\n",
    "\n",
    "\n"
   ]
  },
  {
   "cell_type": "code",
   "execution_count": 22,
   "id": "be37a2b2",
   "metadata": {},
   "outputs": [
    {
     "name": "stdout",
     "output_type": "stream",
     "text": [
      "=================\n",
      "1- Soma de 2 números.\n",
      "2- Diferença entre 2 números (maior pelo menor).\n",
      "3- Produto entre 2 números.\n",
      "4- Divisão entre 2 números (o denominador não pode ser zero).\n",
      "=================\n",
      "Escolha uma opção do menu: 4\n",
      "Digite o primeiro valor: 2\n",
      "Digite o segundo valor: 2\n",
      "A divisão de 2.0 por 2.0 é 1.0\n"
     ]
    }
   ],
   "source": [
    "# Escreva o menu de opções abaixo. Leia a opção do usuário e execute a operação escolhida.\n",
    "# Escreva uma mensagem de erro se a opção for inválida.\n",
    "# Escolha a opção:\n",
    "# 1- Soma de 2 números.\n",
    "# 2- Diferença entre 2 números (maior pelo menor).\n",
    "# 3- Produto entre 2 números.\n",
    "# 4- Divisão entre 2 números (o denominador não pode ser zero).\n",
    "# Opção\n",
    "\n",
    "print('=================')\n",
    "print('1- Soma de 2 números.')\n",
    "print('2- Diferença entre 2 números (maior pelo menor).')\n",
    "print('3- Produto entre 2 números.')\n",
    "print('4- Divisão entre 2 números (o denominador não pode ser zero).')\n",
    "print('=================')\n",
    "\n",
    "opt = int(input('Escolha uma opção do menu: '))\n",
    "\n",
    "if (opt < 1) | (opt > 4):\n",
    "    print('Opção invalida!')\n",
    "else:\n",
    "    valorA = float(input('Digite o primeiro valor: '))\n",
    "    valorB = float(input('Digite o segundo valor: '))\n",
    "\n",
    "    if opt == 1:\n",
    "        print(f'A soma de {valorA} com {valorB} é {valorA + valorB}')\n",
    "    elif opt == 2:\n",
    "        if valorA > valorB:\n",
    "            print(f'A diferença de {valorA} para {valorB} é de {valorA - valorB}')\n",
    "        else:\n",
    "            print(f'A diferença de {valorA} para {valorB} é de {valorB - valorA}')\n",
    "    elif opt == 3:\n",
    "        print(f'O produto de {valorA} com {valorB} é de {valorA // valorB}')\n",
    "    elif opt == 4:\n",
    "        print(f'A divisão de {valorA} por {valorB} é {valorA / valorB}')\n",
    "    \n"
   ]
  },
  {
   "cell_type": "code",
   "execution_count": 30,
   "id": "4417ac9b",
   "metadata": {},
   "outputs": [
    {
     "name": "stdout",
     "output_type": "stream",
     "text": [
      "Digite a sua idade: 61\n",
      "Digite o seu tempode seriço em anos: 26\n",
      "Como a sua idade é de 61 anos e você trabalhou 26 anos você pode se aposenta.\n"
     ]
    }
   ],
   "source": [
    "# Leia a idade e o tempo de serviço de um trabalhador e escreva se ele pode ou não se aposentar.\n",
    "# As condições para aposentadoria são\n",
    "# • Ter pelo menos 65 anos,\n",
    "# • Ou ter trabalhado pelo menos 30 anos,\n",
    "# • Ou ter pelo menos 60 anos e trabalhado pelo menos 25 anos.\n",
    "\n",
    "idade = int(input('Digite a sua idade: '))\n",
    "tempoDeServico = int(input('Digite o seu tempode seriço em anos: '))\n",
    "\n",
    "if(idade >= 65) | (tempoDeServico >= 30) | ((idade >= 60) & (tempoDeServico >= 25)):\n",
    "    print(f'Como a sua idade é de {idade} anos e você trabalhou {tempoDeServico} anos você pode se aposenta.')\n",
    "else:\n",
    "    print(f'Como a sua idade é de {idade} anos e você trabalhou {tempoDeServico} anos você não pode se aposenta ainda.')"
   ]
  },
  {
   "cell_type": "code",
   "execution_count": 36,
   "id": "9c2690c0",
   "metadata": {},
   "outputs": [
    {
     "name": "stdout",
     "output_type": "stream",
     "text": [
      "Entre com o valor do produto: 10\n",
      "============\n",
      "MG - Minas Gerais\n",
      "SP - São Paulo\n",
      "RJ - Rio de Janeiro\n",
      "MS - Mato Grosso do Sul\n",
      "============\n",
      "Digite qual estado o produto será vendido: ms\n",
      "O valor final do produto é 10.8\n"
     ]
    }
   ],
   "source": [
    "# Uma empresa vende o mesmo produto para quatro diferentes estados. Cada estado possui uma\n",
    "# taxa diferente de imposto sobre o produto (MG 7%; SP 12%; RJ 15%; MS 8%). Faça um programa\n",
    "# em que o usuário entre com o valor e o estado destino do produto e o programa retorne o preço final\n",
    "# do produto acrescido do imposto do estado em que ele será vendido. Se o estado digitado não for\n",
    "# válido, mostrar uma mensagem de erro.\n",
    "\n",
    "valorDoProduto = float(input('Entre com o valor do produto: '))\n",
    "\n",
    "print('============')\n",
    "print('MG - Minas Gerais')\n",
    "print('SP - São Paulo')\n",
    "print('RJ - Rio de Janeiro')\n",
    "print('MS - Mato Grosso do Sul')\n",
    "print('============')\n",
    "\n",
    "estadoDaVenda = input('Digite qual estado o produto será vendido: ')\n",
    "\n",
    "if estadoDaVenda.lower() == 'mg':\n",
    "    print(f'O valor final do produto é {(valorDoProduto * 0.07) + valorDoProduto}')\n",
    "elif estadoDaVenda.lower() == 'sp':\n",
    "    print(f'O valor final do produto é {(valorDoProduto * 0.12) + valorDoProduto}')\n",
    "elif estadoDaVenda.lower() == 'rj':\n",
    "    print(f'O valor final do produto é {(valorDoProduto * 0.15) + valorDoProduto}')\n",
    "elif estadoDaVenda.lower() == 'ms':\n",
    "    print(f'O valor final do produto é {(valorDoProduto * 0.08) + valorDoProduto}')\n",
    "else:\n",
    "    print('Estado inválido, escolha uma das opções validas!')\n"
   ]
  },
  {
   "cell_type": "code",
   "execution_count": 54,
   "id": "fb28aa48",
   "metadata": {},
   "outputs": [
    {
     "name": "stdout",
     "output_type": "stream",
     "text": [
      "Entre com os KM`s percorridos: 100\n",
      "Entre com os Litros consumidos: 10\n",
      "Bom\n"
     ]
    }
   ],
   "source": [
    "# Leia a distância em Km e a quantidade de litros de gasolina consumidos por um carro em um\n",
    "# percurso, calcule o consumo em Km/l e escreva uma mensagem de acordo com a tabela abaixo:\n",
    "\n",
    "km = float(input('Entre com os KM`s percorridos: '))\n",
    "litros = float(input('Entre com os Litros consumidos: '))\n",
    "\n",
    "media = km / litros\n",
    "\n",
    "if media < 8:\n",
    "    print('Econômico')\n",
    "elif media < 14:\n",
    "    print('Bom')\n",
    "elif media >= 14:\n",
    "    print('Gastão')\n",
    "\n"
   ]
  },
  {
   "cell_type": "code",
   "execution_count": 60,
   "id": "65c5ca0d",
   "metadata": {},
   "outputs": [
    {
     "name": "stdout",
     "output_type": "stream",
     "text": [
      "Digite a idade do nadador: 17\n",
      "Junior\n"
     ]
    }
   ],
   "source": [
    "# Escreva um programa que, dada a idade de um nadador, classifique-o em uma das seguintes\n",
    "# categorias:\n",
    "\n",
    "idade = int(input('Digite a idade do nadador: '))\n",
    "\n",
    "if (idade >= 6) & (idade <= 8):\n",
    "    print('pré-mirim')\n",
    "elif (idade >= 9) & (idade <= 10):\n",
    "    print('mirim')\n",
    "elif (idade >= 11) & (idade <= 12):\n",
    "    print('petiz')\n",
    "elif (idade >= 13) & (idade <= 14):\n",
    "    print('Infantil')\n",
    "elif (idade >= 15) & (idade <= 16):\n",
    "    print('Juvenil')\n",
    "elif (idade >= 16) & (idade <= 19):\n",
    "    print('Junior')\n",
    "    \n",
    "\n"
   ]
  },
  {
   "cell_type": "code",
   "execution_count": 73,
   "id": "868a2656",
   "metadata": {},
   "outputs": [
    {
     "name": "stdout",
     "output_type": "stream",
     "text": [
      "==================\n",
      "Cardapio\n",
      "==================\n",
      "111: Hot Dog       R$6.0\n",
      "112: X - Burguer       R$10.0\n",
      "113: X - Tudo       R$16.0\n",
      "114: Espetinho       R$8.0\n",
      "115: Fritas       R$12.0\n",
      "116: Refrigerante       R$5.0\n",
      "117: Suco       R$8.0\n",
      "==================\n",
      "Digite o código do produto que você quer: 112\n",
      "Digite a quantidade: 2\n",
      "Você deseja finalizar a comanda? S ou N: n\n",
      "Digite o código do produto que você quer: 113\n",
      "Digite a quantidade: 2\n",
      "Você deseja finalizar a comanda? S ou N: n\n",
      "Digite o código do produto que você quer: 114\n",
      "Digite a quantidade: 2\n",
      "Você deseja finalizar a comanda? S ou N: s\n",
      "Você pediu 2 X - Burguer e deu RS 20.0\n",
      "Você pediu 2 X - Tudo e deu RS 32.0\n",
      "Você pediu 2 Espetinho e deu RS 16.0\n",
      "Valor total da ordem R$ 68.0\n"
     ]
    }
   ],
   "source": [
    "# Escrever um programa que leia o código do produto escolhido do cardápio de uma lanchonete e\n",
    "# a quantidade. O programa deve calcular o valor a ser pago por aquele lanche. Considere que a cada\n",
    "# execução somente será calculado um pedido. O cardápio da lanchonete segue o padrão abaixo:\n",
    "\n",
    "cardapio = {\n",
    "    '111':('Hot Dog', 6.00),\n",
    "    '112':('X - Burguer', 10.00),\n",
    "    '113':('X - Tudo', 16.00),\n",
    "    '114':('Espetinho', 8.00),\n",
    "    '115':('Fritas', 12.00),\n",
    "    '116':('Refrigerante', 5.00),\n",
    "    '117':('Suco', 8.00),\n",
    "}\n",
    "\n",
    "\n",
    "print('==================')\n",
    "print('Cardapio')\n",
    "print('==================')\n",
    "for key in cardapio:\n",
    "    print(f'{key}: {cardapio[key][0]}       R${cardapio[key][1]}')\n",
    "print('==================')\n",
    "\n",
    "# (code, nome, valor, quantidade)\n",
    "ordem = []\n",
    "\n",
    "while True:\n",
    "    code = input('Digite o código do produto que você quer: ')\n",
    "    quantidade = int(input('Digite a quantidade: '))\n",
    "    \n",
    "    if code not in cardapio:\n",
    "        print('Produto invalido! escolha um produto valido')\n",
    "        continue\n",
    "    \n",
    "    ordem.append((code, cardapio[code][0], cardapio[code][1], quantidade))\n",
    "    \n",
    "    sair = input('Você deseja finalizar a comanda? S ou N: ')\n",
    "    if sair.lower() == 's':\n",
    "        break\n",
    "        \n",
    "valorTotalDoPedido = 0\n",
    "for item in ordem:\n",
    "    valorTotalDoItem = item[2] * item[3]\n",
    "    print(f'Você pediu {item[3]} {item[1]} e deu RS {valorTotalDoItem}')\n",
    "    valorTotalDoPedido += valorTotalDoItem\n",
    "    \n",
    "print(f'Valor total da ordem R$ {valorTotalDoPedido}')\n",
    "\n",
    "\n"
   ]
  },
  {
   "cell_type": "code",
   "execution_count": 79,
   "id": "797ad601",
   "metadata": {},
   "outputs": [
    {
     "name": "stdout",
     "output_type": "stream",
     "text": [
      "Digite o valor do produto: 250\n",
      "Valor antigo 250.0, valor com reajust 287.5 e ficou Muito Caro\n"
     ]
    }
   ],
   "source": [
    "# Um produto vai sofrer aumento de acordo com a tabela abaixo. Leia o preço antigo, calcule e\n",
    "# escreva o preço novo, e escreva uma mensagem em função do preço novo (de acordo com a\n",
    "# segunda tabela).\n",
    "\n",
    "def mensagemFinal(valorNovo):\n",
    "    if valorNovo <= 80:\n",
    "        return 'Barato'\n",
    "    elif valorNovo <= 120:\n",
    "        return 'Normal'\n",
    "    elif valorNovo <= 200:\n",
    "        return 'Caro'\n",
    "    else:\n",
    "        return 'Muito Caro'\n",
    "\n",
    "valorAntigo = float(input('Digite o valor do produto: '))\n",
    "\n",
    "valorNovo = 0\n",
    "\n",
    "if valorAntigo <= 50:\n",
    "    valorNovo = (valorAntigo * 0.05) + valorAntigo\n",
    "elif valorAntigo <= 100:\n",
    "    valorNovo = (valorAntigo * 0.10) + valorAntigo\n",
    "else:\n",
    "    valorNovo = (valorAntigo * 0.15) + valorAntigo\n",
    "\n",
    "print(f'Valor antigo {valorAntigo}, valor com reajust {valorNovo} e ficou {mensagemFinal(valorNovo)}')\n",
    "\n",
    "\n"
   ]
  },
  {
   "cell_type": "code",
   "execution_count": 81,
   "id": "15a6a0fe",
   "metadata": {},
   "outputs": [
    {
     "name": "stdout",
     "output_type": "stream",
     "text": [
      "Salário atual do funcionário: 1500\n",
      "Tempo de serviço do funcionário: 5\n",
      "O salário antigo era de R$ 1500.0\n",
      "Com o reajuste + bonus ficou 1925.0\n"
     ]
    }
   ],
   "source": [
    "# Uma empresa decide dar um aumento aos seus funcionários de acordo com uma tabela que\n",
    "# considera o salário atual e o tempo de serviço de cada funcionário. Os funcionários com menor\n",
    "# salário terão um aumento proporcionalmente maior do que os funcionários com um salário maior, e\n",
    "# conforme o tempo de serviço na empresa, cada funcionário irá receber um bônus adicional de\n",
    "# salário. Faça um programa que leia:\n",
    "#\n",
    "# • o valor do salário atual do funcionário;\n",
    "# • o tempo de serviço desse funcionário na empresa (número de anos de trabalho na empresa).\n",
    "#\n",
    "# Use as tabelas abaixo para calcular o salário reajustado deste funcionário e imprima o valor do\n",
    "# salário final reajustado, ou uma mensagem caso o funcionário não tenha direito a nenhum aumento.\n",
    "\n",
    "salarioAtual = float(input('Salário atual do funcionário: '))\n",
    "tempoDeServico = int(input('Tempo de serviço do funcionário: '))\n",
    "\n",
    "salarioNovo = 0\n",
    "\n",
    "if salarioAtual <= 500:\n",
    "    salarioNovo = (salarioAtual * 0.25) + salarioAtual\n",
    "elif salarioAtual <= 1000:\n",
    "    salarioNovo = (salarioAtual * 0.20) + salarioAtual\n",
    "elif salarioAtual <= 1500:\n",
    "    salarioNovo = (salarioAtual * 0.15) + salarioAtual\n",
    "elif salarioAtual <= 2000:\n",
    "    salarioNovo = (salarioAtual * 0.10) + salarioAtual\n",
    "else:\n",
    "    salarioNovo = salarioAtual\n",
    "    \n",
    "if (tempoDeServico > 1) & (tempoDeServico <= 3):\n",
    "    salarioNovo += 100\n",
    "elif (tempoDeServico >= 4) & (tempoDeServico <= 6):\n",
    "    salarioNovo += 200\n",
    "elif (tempoDeServico >= 7) & (tempoDeServico <= 10):\n",
    "    salarioNovo += 300\n",
    "elif tempoDeServico > 10:\n",
    "    salarioNovo += 500\n",
    "    \n",
    "print(f'O salário antigo era de R$ {salarioAtual}')\n",
    "print(f'Com o reajuste + bonus ficou {salarioNovo}')\n",
    "\n",
    "\n"
   ]
  },
  {
   "cell_type": "code",
   "execution_count": null,
   "id": "b311f0a9",
   "metadata": {},
   "outputs": [],
   "source": []
  },
  {
   "cell_type": "code",
   "execution_count": null,
   "id": "3872dab2",
   "metadata": {},
   "outputs": [],
   "source": []
  },
  {
   "cell_type": "code",
   "execution_count": null,
   "id": "cf5b9e83",
   "metadata": {},
   "outputs": [],
   "source": []
  },
  {
   "cell_type": "code",
   "execution_count": null,
   "id": "d35899d1",
   "metadata": {},
   "outputs": [],
   "source": []
  },
  {
   "cell_type": "code",
   "execution_count": null,
   "id": "147f2926",
   "metadata": {},
   "outputs": [],
   "source": []
  },
  {
   "cell_type": "code",
   "execution_count": null,
   "id": "3a108f90",
   "metadata": {},
   "outputs": [],
   "source": []
  },
  {
   "cell_type": "code",
   "execution_count": null,
   "id": "2264c071",
   "metadata": {},
   "outputs": [],
   "source": []
  },
  {
   "cell_type": "code",
   "execution_count": null,
   "id": "59fc633e",
   "metadata": {},
   "outputs": [],
   "source": []
  },
  {
   "cell_type": "code",
   "execution_count": null,
   "id": "169af816",
   "metadata": {},
   "outputs": [],
   "source": []
  },
  {
   "cell_type": "code",
   "execution_count": null,
   "id": "a96107a8",
   "metadata": {},
   "outputs": [],
   "source": []
  },
  {
   "cell_type": "code",
   "execution_count": null,
   "id": "3254a47f",
   "metadata": {},
   "outputs": [],
   "source": []
  },
  {
   "cell_type": "code",
   "execution_count": null,
   "id": "01d47a45",
   "metadata": {},
   "outputs": [],
   "source": []
  },
  {
   "cell_type": "code",
   "execution_count": null,
   "id": "a8da05ba",
   "metadata": {},
   "outputs": [],
   "source": []
  },
  {
   "cell_type": "code",
   "execution_count": null,
   "id": "ade56f30",
   "metadata": {},
   "outputs": [],
   "source": []
  },
  {
   "cell_type": "code",
   "execution_count": null,
   "id": "5e631d8d",
   "metadata": {},
   "outputs": [],
   "source": []
  },
  {
   "cell_type": "code",
   "execution_count": null,
   "id": "a963403b",
   "metadata": {},
   "outputs": [],
   "source": []
  },
  {
   "cell_type": "code",
   "execution_count": null,
   "id": "a14900f9",
   "metadata": {},
   "outputs": [],
   "source": []
  },
  {
   "cell_type": "code",
   "execution_count": null,
   "id": "bfeacf34",
   "metadata": {},
   "outputs": [],
   "source": []
  },
  {
   "cell_type": "code",
   "execution_count": null,
   "id": "a2d158db",
   "metadata": {},
   "outputs": [],
   "source": []
  }
 ],
 "metadata": {
  "kernelspec": {
   "display_name": "Python 3 (ipykernel)",
   "language": "python",
   "name": "python3"
  },
  "language_info": {
   "codemirror_mode": {
    "name": "ipython",
    "version": 3
   },
   "file_extension": ".py",
   "mimetype": "text/x-python",
   "name": "python",
   "nbconvert_exporter": "python",
   "pygments_lexer": "ipython3",
   "version": "3.9.13"
  }
 },
 "nbformat": 4,
 "nbformat_minor": 5
}
