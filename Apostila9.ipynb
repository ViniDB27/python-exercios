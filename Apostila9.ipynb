{
 "cells": [
  {
   "cell_type": "code",
   "execution_count": 3,
   "id": "7eb08c20",
   "metadata": {},
   "outputs": [
    {
     "name": "stdout",
     "output_type": "stream",
     "text": [
      "Digite o nome do participante: Vitoria\n",
      "Digite o nome do participante: Vinicio\n",
      "Digite o nome do participante: Gustavo\n",
      "Digite o nome do participante: Amanda\n",
      "Digite o nome do participante: Isis\n",
      "O ganhador é Isis\n"
     ]
    }
   ],
   "source": [
    "# Peça ao usuário o nome de 5 pessoas e sorteie uma delas para um prêmio.\n",
    "import random\n",
    "\n",
    "vezes = 0\n",
    "pessoas = []\n",
    "\n",
    "while vezes < 5:\n",
    "    nome = input('Digite o nome do participante: ')\n",
    "    pessoas.append(nome)\n",
    "    vezes += 1\n",
    "\n",
    "print(f'O ganhador é {random.choice(pessoas)}')\n"
   ]
  },
  {
   "cell_type": "code",
   "execution_count": 7,
   "id": "5ca4f3b2",
   "metadata": {},
   "outputs": [
    {
     "name": "stdout",
     "output_type": "stream",
     "text": [
      "Digite o nome do participante: Vitoria\n",
      "Digite o nome do participante: Vinicio\n",
      "Digite o nome do participante: Gustavo\n",
      "Digite o nome do participante: Amanda\n",
      "Digite o nome do participante: Isis\n",
      "['Amanda', 'Gustavo', 'Vinicio', 'Vitoria', 'Isis']\n"
     ]
    }
   ],
   "source": [
    "# Peça ao usuário 5 nomes de pessoas e coloque-as em uma ordem embaralhada para uma\n",
    "# apresentação de seminário.\n",
    "\n",
    "import random\n",
    "\n",
    "vezes = 0\n",
    "pessoas = []\n",
    "\n",
    "while vezes < 5:\n",
    "    nome = input('Digite o nome do participante: ')\n",
    "    pessoas.append(nome)\n",
    "    vezes += 1\n",
    "\n",
    "random.shuffle(pessoas)\n",
    "print(pessoas)"
   ]
  },
  {
   "cell_type": "code",
   "execution_count": 2,
   "id": "fe273254",
   "metadata": {},
   "outputs": [
    {
     "name": "stdout",
     "output_type": "stream",
     "text": [
      "Escolha um numero de 1 a 10: 9\n",
      "Vamos ao resultado\n",
      "Você acertou, Numero do Computador: 9, Numero do Usuário: 9\n"
     ]
    }
   ],
   "source": [
    "# Faça um jogo de adivinhação. O computador escolhe um número de 1 a 10 e o usuário tenta\n",
    "# adivinhar. Ele então diz se o usuário acertou ou não através de uma mensagem. Coloque um delay\n",
    "# para dar emoção.\n",
    "\n",
    "import random\n",
    "import time\n",
    "\n",
    "numeroDoComputador = random.randint(1,10)\n",
    "\n",
    "numeroDoUsuario = int(input('Escolha um numero de 1 a 10: '))\n",
    "\n",
    "print('Vamos ao resultado')\n",
    "\n",
    "time.sleep(5)\n",
    "\n",
    "if numeroDoComputador == numeroDoUsuario:\n",
    "    print(f'Você acertou, Numero do Computador: {numeroDoComputador}, Numero do Usuário: {numeroDoUsuario}')\n",
    "else:\n",
    "    print(f'Você errou, Numero do Computador: {numeroDoComputador}, Numero do Usuário: {numeroDoUsuario}')\n"
   ]
  },
  {
   "cell_type": "code",
   "execution_count": 12,
   "id": "eef22b50",
   "metadata": {},
   "outputs": [
    {
     "name": "stdout",
     "output_type": "stream",
     "text": [
      "Sumary\n",
      "PL = Papel\n",
      "PD = Pedra\n",
      "TS = Tesoura\n",
      "S = Sair\n",
      "Escolha a sua opção: pd\n",
      "Usuário ganhou! Comp: ts, user: pd\n",
      "Escolha a sua opção: pd\n",
      "Usuário ganhou! Comp: ts, user: pd\n",
      "Escolha a sua opção: pd\n",
      "Usuário ganhou! Comp: ts, user: pd\n",
      "Escolha a sua opção: pd\n",
      "Computador ganhou! Comp: pl, user: pd\n",
      "Escolha a sua opção: pd\n",
      "Computador ganhou! Comp: pl, user: pd\n",
      "Escolha a sua opção: pd\n",
      "Computador ganhou! Comp: pl, user: pd\n",
      "Escolha a sua opção: pd\n",
      "Computador ganhou! Comp: pl, user: pd\n",
      "Escolha a sua opção: pd\n",
      "Computador ganhou! Comp: pl, user: pd\n",
      "Escolha a sua opção: pd\n",
      "Usuário ganhou! Comp: ts, user: pd\n",
      "Escolha a sua opção: pd\n",
      "Computador ganhou! Comp: pl, user: pd\n",
      "Escolha a sua opção: pd\n",
      "Empate! Comp: pd, user: pd\n",
      "Escolha a sua opção: pd\n",
      "Computador ganhou! Comp: pl, user: pd\n",
      "Escolha a sua opção: pd\n",
      "Empate! Comp: pd, user: pd\n",
      "Escolha a sua opção: pd\n",
      "Usuário ganhou! Comp: ts, user: pd\n",
      "Escolha a sua opção: pe\n",
      "Escolha Invalida\n",
      "Escolha a sua opção: s\n",
      "Tachau! até a próxima\n"
     ]
    }
   ],
   "source": [
    "# Faça um jogo de pedra, papel e tesoura. Coloque a opção de jogar de novo ou desistir.\n",
    "\n",
    "import random\n",
    "\n",
    "print('Sumary')\n",
    "print('PL = Papel')\n",
    "print('PD = Pedra')\n",
    "print('TS = Tesoura')\n",
    "print('S = Sair')\n",
    "\n",
    "opcoes = ['pd','pl','ts']\n",
    "\n",
    "while True:\n",
    "    compOpc = random.choice(opcoes)\n",
    "    userOpt =  input('Escolha a sua opção: ')\n",
    "    \n",
    "    if userOpt.lower() == 's':\n",
    "        print('Tachau! até a próxima')\n",
    "        break\n",
    "    elif (userOpt.lower() != 'pd') & (userOpt.lower() != 'pl') & (userOpt.lower() != 'ts'):\n",
    "        print('Escolha Invalida')\n",
    "        continue\n",
    "    \n",
    "    \n",
    "    if userOpt.lower() == compOpc.lower():\n",
    "        print(f'Empate! Comp: {compOpc}, user: {userOpt}')\n",
    "    elif (userOpt.lower() == 'pl') & (compOpc.lower() == 'pd'):\n",
    "        print(f'Usuário ganhou! Comp: {compOpc}, user: {userOpt}')\n",
    "    elif (userOpt.lower() == 'pd') & (compOpc.lower() == 'ts'):\n",
    "        print(f'Usuário ganhou! Comp: {compOpc}, user: {userOpt}')\n",
    "    elif (userOpt.lower() == 'ts') & (compOpc.lower() == 'pl'):\n",
    "        print(f'Usuário ganhou! Comp: {compOpc}, user: {userOpt}')\n",
    "    else:\n",
    "        print(f'Computador ganhou! Comp: {compOpc}, user: {userOpt}')\n",
    "    "
   ]
  },
  {
   "cell_type": "code",
   "execution_count": 15,
   "id": "80308bdd",
   "metadata": {},
   "outputs": [
    {
     "name": "stdout",
     "output_type": "stream",
     "text": [
      "Nome do produto: Peira\n",
      "Valor do produto: 5\n",
      "Deseja cadastrar mais um? S ou NMaça\n",
      "Nome do produto: 6\n",
      "Valor do produto: 6\n",
      "Deseja cadastrar mais um? S ou Nn\n",
      "Valor total da lista: 11.0\n",
      "O produto mais barato é Peira com o valor de 5.0\n",
      "O produto mais barato é 6 com o valor de 6.0\n"
     ]
    }
   ],
   "source": [
    "# Vamos fazer uma lista de compras. O usuário deve indicar o produto eu preço dele. A cada\n",
    "# produto o programa deve perguntar se ele deseja adicionar mais produtos ou finalizar. Quando ele\n",
    "# indicar finalizar, o programa coloca o preço total, o produto mais barato e seu valor e o produto\n",
    "# mais caro com seu valor.\n",
    "\n",
    "produtos = []\n",
    "\n",
    "while True:\n",
    "    produto = input('Nome do produto: ')\n",
    "    valor = float(input('Valor do produto: '))\n",
    "    produtos.append((produto, valor))\n",
    "    \n",
    "    exit = input('Deseja cadastrar mais um? S ou N')\n",
    "    if exit.lower() == 'n':\n",
    "        break\n",
    "\n",
    "valorTotalDaLista = 0\n",
    "\n",
    "nomeDoProdutoMaisBarato = ''\n",
    "valorDoProdutoMaisBarato = 0\n",
    "\n",
    "nomeDoProdutoMaisCaro = ''\n",
    "valorDoProdutoMaisCaro = 0\n",
    "\n",
    "for produto in produtos:\n",
    "    valorTotalDaLista += produto[1]\n",
    "    \n",
    "    if (valorDoProdutoMaisBarato == 0) | (valorDoProdutoMaisBarato > produto[1]):\n",
    "        nomeDoProdutoMaisBarato = produto[0]\n",
    "        valorDoProdutoMaisBarato = produto[1]\n",
    "    \n",
    "    if (valorDoProdutoMaisCaro == 0) | (valorDoProdutoMaisCaro < produto[1]):\n",
    "        nomeDoProdutoMaisCaro = produto[0]\n",
    "        valorDoProdutoMaisCaro = produto[1]\n",
    "        \n",
    "        \n",
    "print(f'Valor total da lista: {valorTotalDaLista}')\n",
    "print(f'O produto mais barato é {nomeDoProdutoMaisBarato} com o valor de {valorDoProdutoMaisBarato}')\n",
    "print(f'O produto mais barato é {nomeDoProdutoMaisCaro} com o valor de {valorDoProdutoMaisCaro}')\n"
   ]
  },
  {
   "cell_type": "code",
   "execution_count": null,
   "id": "5094d3f8",
   "metadata": {},
   "outputs": [],
   "source": []
  }
 ],
 "metadata": {
  "kernelspec": {
   "display_name": "Python 3 (ipykernel)",
   "language": "python",
   "name": "python3"
  },
  "language_info": {
   "codemirror_mode": {
    "name": "ipython",
    "version": 3
   },
   "file_extension": ".py",
   "mimetype": "text/x-python",
   "name": "python",
   "nbconvert_exporter": "python",
   "pygments_lexer": "ipython3",
   "version": "3.9.13"
  }
 },
 "nbformat": 4,
 "nbformat_minor": 5
}
