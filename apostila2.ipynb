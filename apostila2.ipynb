{
 "cells": [
  {
   "cell_type": "code",
   "execution_count": 3,
   "id": "7b9b63e2",
   "metadata": {},
   "outputs": [
    {
     "name": "stdout",
     "output_type": "stream",
     "text": [
      "69\n"
     ]
    }
   ],
   "source": [
    "# Calculo dos valores 20 + 35 + 14\n",
    "somaA = 20 + 35 + 14\n",
    "\n",
    "print(somaA)"
   ]
  },
  {
   "cell_type": "code",
   "execution_count": 4,
   "id": "41dd490e",
   "metadata": {},
   "outputs": [
    {
     "name": "stdout",
     "output_type": "stream",
     "text": [
      "74\n"
     ]
    }
   ],
   "source": [
    "# Calculo dos valores 38 - 12 + 48\n",
    "somaB = 38 - 12 + 48\n",
    "\n",
    "print(somaB)"
   ]
  },
  {
   "cell_type": "code",
   "execution_count": 6,
   "id": "84122baf",
   "metadata": {},
   "outputs": [
    {
     "name": "stdout",
     "output_type": "stream",
     "text": [
      "42.0\n"
     ]
    }
   ],
   "source": [
    "# calculo dos valores 125 / 5 + 17\n",
    "somaC = 125 / 5 + 17\n",
    "\n",
    "print(somaC)"
   ]
  },
  {
   "cell_type": "code",
   "execution_count": 8,
   "id": "d28331d7",
   "metadata": {},
   "outputs": [
    {
     "name": "stdout",
     "output_type": "stream",
     "text": [
      "1575.0\n"
     ]
    }
   ],
   "source": [
    "# calculo dos valores 189 / 3 * 25\n",
    "somaD = 189 / 3 * 25\n",
    "\n",
    "print(somaD)"
   ]
  },
  {
   "cell_type": "code",
   "execution_count": 13,
   "id": "5fdd9444",
   "metadata": {},
   "outputs": [
    {
     "name": "stdout",
     "output_type": "stream",
     "text": [
      "Digite um numero 5\n",
      "Digite outro numero 6\n",
      "A soma dos valores é igual a 11\n"
     ]
    }
   ],
   "source": [
    "#exercicio 1 - somar dois numero\n",
    "\n",
    "numeroA = int(input('Digite um numero '))\n",
    "numeroB = int(input('Digite outro numero '))\n",
    "\n",
    "print(\"A soma dos valores é igual a\", numeroA + numeroB)"
   ]
  },
  {
   "cell_type": "code",
   "execution_count": 14,
   "id": "9441ee25",
   "metadata": {},
   "outputs": [
    {
     "name": "stdout",
     "output_type": "stream",
     "text": [
      "Digite um numero 6\n",
      "Digite outro numero 5\n",
      "A subtração dos valores é igual a 1\n"
     ]
    }
   ],
   "source": [
    "#exercicio 1 - subtrair dois numero\n",
    "\n",
    "numeroC = int(input('Digite um numero '))\n",
    "numeroD = int(input('Digite outro numero '))\n",
    "\n",
    "print(\"A subtração dos valores é igual a\", numeroC - numeroD)"
   ]
  },
  {
   "cell_type": "code",
   "execution_count": 16,
   "id": "b6249c1a",
   "metadata": {},
   "outputs": [
    {
     "name": "stdout",
     "output_type": "stream",
     "text": [
      "Digite um numero 8\n",
      "Digite outro numero 2\n",
      "O quociente dos valores é igual a 4\n",
      "O resto dos valores é igual a 0\n"
     ]
    }
   ],
   "source": [
    "#exercicio 1 - quociente e resto de dois numero\n",
    "\n",
    "numeroE = int(input('Digite um numero '))\n",
    "numeroF = int(input('Digite outro numero '))\n",
    "\n",
    "print(\"O quociente dos valores é igual a\", numeroE // numeroF)\n",
    "print(\"O resto dos valores é igual a\", numeroE % numeroF)"
   ]
  },
  {
   "cell_type": "code",
   "execution_count": 19,
   "id": "3c857e26",
   "metadata": {},
   "outputs": [
    {
     "name": "stdout",
     "output_type": "stream",
     "text": [
      "163.0\n"
     ]
    }
   ],
   "source": [
    "# exericicio \n",
    "\n",
    "somaA = (30*5) + 18 - (15 / 3)\n",
    "print(somaA)"
   ]
  },
  {
   "cell_type": "code",
   "execution_count": null,
   "id": "e692ee2a",
   "metadata": {},
   "outputs": [],
   "source": [
    "somaB "
   ]
  }
 ],
 "metadata": {
  "kernelspec": {
   "display_name": "Python 3 (ipykernel)",
   "language": "python",
   "name": "python3"
  },
  "language_info": {
   "codemirror_mode": {
    "name": "ipython",
    "version": 3
   },
   "file_extension": ".py",
   "mimetype": "text/x-python",
   "name": "python",
   "nbconvert_exporter": "python",
   "pygments_lexer": "ipython3",
   "version": "3.9.13"
  }
 },
 "nbformat": 4,
 "nbformat_minor": 5
}
