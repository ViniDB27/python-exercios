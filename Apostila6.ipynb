{
 "cells": [
  {
   "cell_type": "code",
   "execution_count": 31,
   "id": "1691bd12",
   "metadata": {},
   "outputs": [
    {
     "name": "stdout",
     "output_type": "stream",
     "text": [
      "Sumario\n",
      "1 = Domingo\n",
      "2 = Segunda\n",
      "3 = Terça\n",
      "4 = Quarta\n",
      "5 = Quinta\n",
      "6 = Sexta\n",
      "7 = Sabado\n",
      "Digite o dia da semana 5\n",
      "Você precisa trabalhar!\n"
     ]
    }
   ],
   "source": [
    "# Crie uma estrutura que pergunte ao usuário qual o dia da semana. Se o dia for igual a Domingo\n",
    "# ou igual a sábado, imprima na tela \"Hoje é dia de descanso\", caso contrário imprima na tela \"Você\n",
    "# precisa trabalhar!\"\n",
    "\n",
    "print(\"Sumario\")\n",
    "print(\"1 = Domingo\")\n",
    "print(\"2 = Segunda\")\n",
    "print(\"3 = Terça\")\n",
    "print(\"4 = Quarta\")\n",
    "print(\"5 = Quinta\")\n",
    "print(\"6 = Sexta\")\n",
    "print(\"7 = Sabado\")\n",
    "\n",
    "weekDay = int(input('Digite o dia da semana '))\n",
    "\n",
    "if (weekDay > 1) & (weekDay < 7):\n",
    "    print('Você precisa trabalhar!')\n",
    "else:\n",
    "    print('Hoje é dia de descanso')\n",
    "\n"
   ]
  },
  {
   "cell_type": "code",
   "execution_count": 32,
   "id": "4bd169eb",
   "metadata": {},
   "outputs": [
    {
     "name": "stdout",
     "output_type": "stream",
     "text": [
      "Digite a sua altura 1.77\n",
      "Digite o seu peso 80\n",
      "Sobre peso\n"
     ]
    }
   ],
   "source": [
    "# Faça um programa que peça a altura e o peso da pessoa. Calcule o IMC e diga se a pessoa está\n",
    "# normal, sobrepeso, obesidade,etc\n",
    "\n",
    "altura = float(input('Digite a sua altura '))\n",
    "peso = float(input('Digite o seu peso '))\n",
    "\n",
    "imc = peso / altura**2\n",
    "\n",
    "if imc < 18.5:\n",
    "    print('Abaixo do Peso')\n",
    "elif imc < 24.9:\n",
    "    print('Peso Normal')\n",
    "elif imc < 29.9:\n",
    "    print('Sobre peso')\n",
    "elif imc < 34.9:\n",
    "    print('Obesidade grau I')\n",
    "elif imc < 39.9:\n",
    "    print('Obesidade grau II')\n",
    "else:\n",
    "    print('Obesidade grau III')\n"
   ]
  },
  {
   "cell_type": "code",
   "execution_count": 29,
   "id": "61c665bd",
   "metadata": {},
   "outputs": [
    {
     "name": "stdout",
     "output_type": "stream",
     "text": [
      "Digite a nota 1 7\n",
      "Digite a nota 2 6\n",
      "Reprovado\n"
     ]
    }
   ],
   "source": [
    "# Faça um programa para a leitura de duas notas parciais de um aluno. O programa deve calcular a\n",
    "# média alcançada por aluno e apresentar:\n",
    "# • A mensagem \"Aprovado\", se a média alcançada for maior ou igual a sete;\n",
    "# • A mensagem \"Reprovado\", se a média for menor do que sete;\n",
    "# • A mensagem \"Aprovado com Distinção\", se a média for igual a dez.\n",
    "\n",
    "nota1 = float(input('Digite a nota 1 '))\n",
    "nota2 = float(input('Digite a nota 2 '))\n",
    "\n",
    "media = (nota1 + nota2) / 2\n",
    "\n",
    "if media < 7.0:\n",
    "    print('Reprovado')\n",
    "elif media == 10.0:\n",
    "    print('Aprovado com Distinção')\n",
    "else:\n",
    "    print('Aprovado')\n"
   ]
  },
  {
   "cell_type": "code",
   "execution_count": null,
   "id": "c95c4165",
   "metadata": {},
   "outputs": [],
   "source": [
    "# Faça um Programa que pergunte em que turno você estuda. Peça para digitar M-matutino ou V-\n",
    "# Vespertino ou N- Noturno. Imprima a mensagem \"Bom Dia!\", \"Boa Tarde!\" ou \"Boa Noite!\" ou\n",
    "\n",
    "# \"Valor Inválido!\", conforme o caso.\n",
    "\n",
    "print('Sumario')\n",
    "print('M - Matutino')\n",
    "print('V - Vespertino')\n",
    "print('N - Noturno')\n",
    "\n",
    "periodo = input('Digite a letra referente ao seu turno ')\n",
    "\n",
    "if periodo.lower() == 'm':\n",
    "    print('Bom dia!')\n",
    "elif periodo.lower() == 'v':\n",
    "    print('Boa tarde!')\n",
    "elif periodo.lower() == 'n':\n",
    "    print('Boa Noite!')\n",
    "else:\n",
    "    print('Valor Ínvalido')"
   ]
  },
  {
   "cell_type": "code",
   "execution_count": 34,
   "id": "add35812",
   "metadata": {},
   "outputs": [
    {
     "name": "stdout",
     "output_type": "stream",
     "text": [
      "Digite um numero3\n",
      "Impar\n"
     ]
    }
   ],
   "source": [
    "# Faça um programa que peça um número ao usuário. O programa deve indicar se o número é\n",
    "# ímpar ou par.\n",
    "\n",
    "number = float(input('Digite um numero'))\n",
    "\n",
    "rest = number % 2\n",
    "\n",
    "if rest == 0:\n",
    "    print('Par')\n",
    "else:\n",
    "    print('Impar')\n"
   ]
  },
  {
   "cell_type": "code",
   "execution_count": 40,
   "id": "cbba203b",
   "metadata": {},
   "outputs": [
    {
     "name": "stdout",
     "output_type": "stream",
     "text": [
      "Digite a primeira nota 9\n",
      "Digite a segunda nota 9\n",
      "A\n"
     ]
    }
   ],
   "source": [
    "# Faça um programa que lê as duas notas parciais obtidas por um aluno numa disciplina ao longo\n",
    "# de um semestre, e calcule a sua média. A atribuição de conceitos obedece à tabela abaixo:\n",
    "# Média de Aproveitamento Conceito\n",
    "# Entre 9.0 e 10.0 A\n",
    "# Entre 7.5 e 9.0 B\n",
    "# Entre 6.0 e 7.5 C\n",
    "# Entre 4.0 e 6.0 D\n",
    "# Entre 4.0 e zero E\n",
    "# O algoritmo deve mostrar na tela as notas, a média, o conceito correspondente e a mensagem\n",
    "# “APROVADO” se o conceito for A, B ou C ou “REPROVADO” se o conceito for D ou E.\n",
    "\n",
    "nota1 = float(input('Digite a primeira nota '))\n",
    "nota2 = float(input('Digite a segunda nota '))\n",
    "\n",
    "media = (nota1 + nota2) / 2\n",
    "\n",
    "if media < 4.0:\n",
    "    print('E')\n",
    "elif media < 6.0:\n",
    "    print('D')\n",
    "elif media < 7.5:\n",
    "    print('C')\n",
    "elif media < 9.0:\n",
    "    print('B')\n",
    "else:\n",
    "    print('A')\n"
   ]
  },
  {
   "cell_type": "code",
   "execution_count": 43,
   "id": "ee4eda78",
   "metadata": {},
   "outputs": [
    {
     "name": "stdout",
     "output_type": "stream",
     "text": [
      "Digite o valor da velocidade do veiculo 89\n",
      "Foguete não tem ré mas tem multa. valor da multa 90\n"
     ]
    }
   ],
   "source": [
    "# Você fará um programa de radar eletrônico. Pergunte a velocidade do carro. Se a velocidade\n",
    "# for menor ou igual a 80km/h, o usuário receberá a seguinte mensagem: “Boa viagem!!Você está\n",
    "# dentro do limite de velocidade!” . Se a velocidade for maior do que 80 km/h, escreva: Você se\n",
    "# encontra acima do limite de 80km/h. Foguete não tem ré mas tem multa. Apresente a multa do\n",
    "# indivíduo em reais. O aviso de multa deverá ser escrito em vermelho.A multa é calculada somando\n",
    "# 10 reais para cada km acima dos 80.\n",
    "\n",
    "velocidade = int(input('Digite o valor da velocidade do veiculo '))\n",
    "\n",
    "if velocidade <= 80:\n",
    "    print('Boa viagem!!Você está dentro do limite de velocidade!')\n",
    "else:\n",
    "    multa = (velocidade - 80) * 10\n",
    "    print(f'Foguete não tem ré mas tem multa. valor da multa {multa}')\n"
   ]
  }
 ],
 "metadata": {
  "kernelspec": {
   "display_name": "Python 3 (ipykernel)",
   "language": "python",
   "name": "python3"
  },
  "language_info": {
   "codemirror_mode": {
    "name": "ipython",
    "version": 3
   },
   "file_extension": ".py",
   "mimetype": "text/x-python",
   "name": "python",
   "nbconvert_exporter": "python",
   "pygments_lexer": "ipython3",
   "version": "3.9.13"
  }
 },
 "nbformat": 4,
 "nbformat_minor": 5
}
