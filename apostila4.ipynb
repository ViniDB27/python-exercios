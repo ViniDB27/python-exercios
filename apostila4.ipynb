{
 "cells": [
  {
   "cell_type": "code",
   "execution_count": 6,
   "id": "3a3138d3",
   "metadata": {},
   "outputs": [
    {
     "name": "stdout",
     "output_type": "stream",
     "text": [
      "Digite o primeiro produto da sua lista Banana\n",
      "Digite o segundo produto da sua lista Maçã\n",
      "Digite o terceiro produto da sua lista Peira\n",
      "Sua Lista de Compras ['Banana', 'Maçã', 'Peira']\n"
     ]
    }
   ],
   "source": [
    "# Vamos fazer uma lista de compras. Peça ao usuário 3 produtos, coloque em uma lista e mostre a lista final em um print. (batata,leite e pão)\n",
    "\n",
    "produto1 = input('Digite o primeiro produto da sua lista ')\n",
    "produto2 = input('Digite o segundo produto da sua lista ')\n",
    "produto3 = input('Digite o terceiro produto da sua lista ')\n",
    "\n",
    "listaDeCompras = [produto1, produto2, produto3]\n",
    "\n",
    "print('Sua Lista de Compras', listaDeCompras)"
   ]
  },
  {
   "cell_type": "code",
   "execution_count": 11,
   "id": "80438f7f",
   "metadata": {},
   "outputs": [
    {
     "name": "stdout",
     "output_type": "stream",
     "text": [
      "Digite mais um produto para a sua lista Abacate\n",
      "Sua Lista de Compras ['Banana', 'Maçã', 'Peira', 'Uva', 'Abacate']\n"
     ]
    }
   ],
   "source": [
    "# Adicione mais produto à lista sem apagá-la. Adicione: banana, chocolate, cenoura,ervilha,café,sucrilhos,arroz,vinagre,salgadinho e pimenta.\n",
    "produtoAcional = input('Digite mais um produto para a sua lista ')\n",
    "\n",
    "listaDeCompras.append(produtoAcional)\n",
    "print('Sua Lista de Compras', listaDeCompras)"
   ]
  },
  {
   "cell_type": "code",
   "execution_count": 14,
   "id": "6a28d593",
   "metadata": {},
   "outputs": [
    {
     "name": "stdout",
     "output_type": "stream",
     "text": [
      "Sua Lista de Compras ['Abacate', 'Banana', 'Maçã', 'Peira', 'Uva']\n"
     ]
    }
   ],
   "source": [
    "# Você é estranho. Não consegue ficar sem colocar a lista em ordem alfabética. Faça isso então.\n",
    "listaDeCompras.sort()\n",
    "\n",
    "print('Sua Lista de Compras', listaDeCompras)"
   ]
  },
  {
   "cell_type": "code",
   "execution_count": 15,
   "id": "4079061b",
   "metadata": {},
   "outputs": [
    {
     "name": "stdout",
     "output_type": "stream",
     "text": [
      "0\n",
      "0\n"
     ]
    }
   ],
   "source": [
    "# Você é a Dory. Esqueceu se colocou pinhão e cenoura na sua lista. Verifique se estão lá.\n",
    "print(listaDeCompras.count('pinhão'))\n",
    "print(listaDeCompras.count('cenoura'))"
   ]
  },
  {
   "cell_type": "code",
   "execution_count": 16,
   "id": "a63ea438",
   "metadata": {},
   "outputs": [
    {
     "name": "stdout",
     "output_type": "stream",
     "text": [
      "['um', 'dois', 'tres', 1, 2, 3, 4, 1.1, 2.2, 3.3, [1, True, 'olá', [1, 2, 3]], [1, 2, 3]]\n"
     ]
    }
   ],
   "source": [
    "# Crie uma lista com: 3 strings, 4 números inteiros, 3 números float, duas listas aninhadas.\n",
    "\n",
    "print(['um', 'dois', 'tres', 1, 2, 3, 4, 1.1, 2.2, 3.3, [1, True, 'olá', [1, 2, 3]],[1, 2, 3]])\n"
   ]
  },
  {
   "cell_type": "code",
   "execution_count": 17,
   "id": "6f6f568c",
   "metadata": {},
   "outputs": [
    {
     "name": "stdout",
     "output_type": "stream",
     "text": [
      "Digite uma palavra oi\n",
      "Digite mais uma palavra bom\n",
      "Digite um numero inteiro 1\n",
      "Digite outro numero inteiro 2\n",
      "Digite outro numero inteiro 3\n",
      "Digite um numero decimal 1.2\n",
      "Digite um numero decimal 2.4\n",
      "['oi', 'bom', 1, 2, 3, 1.2, 2.4]\n"
     ]
    }
   ],
   "source": [
    "# Crie uma lista com: 2 strings, 3 números inteiros, 2 números float, sendo que os elementos devem ser dados pelo usuário e impressos no final com um print.\n",
    "itemA = input('Digite uma palavra ')\n",
    "itemB = input('Digite mais uma palavra ')\n",
    "itemC = int(input('Digite um numero inteiro '))\n",
    "itemD = int(input('Digite outro numero inteiro '))\n",
    "itemE = int(input('Digite outro numero inteiro '))\n",
    "itemF = float(input('Digite um numero decimal '))\n",
    "itemG = float(input('Digite um numero decimal '))\n",
    "\n",
    "print([itemA, itemB, itemC, itemD, itemE, itemF, itemG ])\n",
    "\n",
    "\n"
   ]
  },
  {
   "cell_type": "code",
   "execution_count": 18,
   "id": "de5f062c",
   "metadata": {},
   "outputs": [
    {
     "name": "stdout",
     "output_type": "stream",
     "text": [
      "0\n"
     ]
    }
   ],
   "source": [
    "listaNumerica = [5,4,8,9,6,54,52,68,102,48,201,55,60,31,4,50,8,4,33,123,87,66,2,4,82,102,44,6,32,26,4,14,25]\n",
    "\n",
    "print(listaNumerica.count(23))"
   ]
  },
  {
   "cell_type": "code",
   "execution_count": 19,
   "id": "fc15f438",
   "metadata": {},
   "outputs": [
    {
     "name": "stdout",
     "output_type": "stream",
     "text": [
      "5\n"
     ]
    }
   ],
   "source": [
    "print(listaNumerica.count(4))"
   ]
  },
  {
   "cell_type": "code",
   "execution_count": 26,
   "id": "ac7a956a",
   "metadata": {},
   "outputs": [
    {
     "name": "stdout",
     "output_type": "stream",
     "text": [
      "[2, 4, 4, 4, 4, 4, 5, 6, 6, 8, 8, 9, 14, 25, 26, 31, 32, 33, 44, 48, 50, 52, 54, 55, 60, 66, 68, 82, 87, 102, 102, 123, 201]\n"
     ]
    }
   ],
   "source": [
    "listaNumerica.sort()\n",
    "print(listaNumerica)"
   ]
  },
  {
   "cell_type": "code",
   "execution_count": 27,
   "id": "a77612ca",
   "metadata": {},
   "outputs": [
    {
     "name": "stdout",
     "output_type": "stream",
     "text": [
      "[201, 123, 102, 102, 87, 82, 68, 66, 60, 55, 54, 52, 50, 48, 44, 33, 32, 31, 26, 25, 14, 9, 8, 8, 6, 6, 5, 4, 4, 4, 4, 4, 2]\n"
     ]
    }
   ],
   "source": [
    "listaNumerica.sort(reverse=True)\n",
    "print(listaNumerica)"
   ]
  },
  {
   "cell_type": "code",
   "execution_count": 28,
   "id": "6e962ed6",
   "metadata": {},
   "outputs": [
    {
     "name": "stdout",
     "output_type": "stream",
     "text": [
      "33\n"
     ]
    }
   ],
   "source": [
    "print(len(listaNumerica))"
   ]
  },
  {
   "cell_type": "code",
   "execution_count": 29,
   "id": "570ca88a",
   "metadata": {},
   "outputs": [
    {
     "name": "stdout",
     "output_type": "stream",
     "text": [
      "1419\n"
     ]
    }
   ],
   "source": [
    "print(sum(listaNumerica))"
   ]
  },
  {
   "cell_type": "code",
   "execution_count": 30,
   "id": "41b3bcdf",
   "metadata": {},
   "outputs": [
    {
     "name": "stdout",
     "output_type": "stream",
     "text": [
      "201\n",
      "2\n"
     ]
    }
   ],
   "source": [
    "print(max(listaNumerica))\n",
    "print(min(listaNumerica))"
   ]
  },
  {
   "cell_type": "code",
   "execution_count": 33,
   "id": "5d2af9b0",
   "metadata": {},
   "outputs": [
    {
     "name": "stdout",
     "output_type": "stream",
     "text": [
      "66\n"
     ]
    }
   ],
   "source": [
    "import random\n",
    "\n",
    "index = random.randint(0,9)\n",
    "\n",
    "print(listaNumerica[index])"
   ]
  },
  {
   "cell_type": "code",
   "execution_count": null,
   "id": "a40902c1",
   "metadata": {},
   "outputs": [],
   "source": []
  }
 ],
 "metadata": {
  "kernelspec": {
   "display_name": "Python 3 (ipykernel)",
   "language": "python",
   "name": "python3"
  },
  "language_info": {
   "codemirror_mode": {
    "name": "ipython",
    "version": 3
   },
   "file_extension": ".py",
   "mimetype": "text/x-python",
   "name": "python",
   "nbconvert_exporter": "python",
   "pygments_lexer": "ipython3",
   "version": "3.9.13"
  }
 },
 "nbformat": 4,
 "nbformat_minor": 5
}
