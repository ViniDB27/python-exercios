{
 "cells": [
  {
   "cell_type": "markdown",
   "id": "cb23e965",
   "metadata": {},
   "source": [
    "<h1 style=\"color:blue;\" >Titulo</h1>"
   ]
  },
  {
   "cell_type": "markdown",
   "id": "9c33ccf1",
   "metadata": {},
   "source": [
    "============================"
   ]
  },
  {
   "cell_type": "markdown",
   "id": "aee90660",
   "metadata": {},
   "source": [
    "<ol>\n",
    "    <li>primeiro item</li>\n",
    "    <li>segundo item</li>\n",
    "    <li>terceiro item</li>\n",
    "    <li>quarto item</li>\n",
    "</ol>"
   ]
  },
  {
   "cell_type": "code",
   "execution_count": null,
   "id": "a6e4f5d3",
   "metadata": {},
   "outputs": [],
   "source": []
  }
 ],
 "metadata": {
  "kernelspec": {
   "display_name": "Python 3 (ipykernel)",
   "language": "python",
   "name": "python3"
  },
  "language_info": {
   "codemirror_mode": {
    "name": "ipython",
    "version": 3
   },
   "file_extension": ".py",
   "mimetype": "text/x-python",
   "name": "python",
   "nbconvert_exporter": "python",
   "pygments_lexer": "ipython3",
   "version": "3.9.13"
  }
 },
 "nbformat": 4,
 "nbformat_minor": 5
}
